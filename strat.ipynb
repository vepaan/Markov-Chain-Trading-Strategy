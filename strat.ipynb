{
 "cells": [
  {
   "cell_type": "code",
   "execution_count": 36,
   "metadata": {},
   "outputs": [],
   "source": [
    "import yfinance as yf\n",
    "import markov\n",
    "import datetime\n",
    "import matplotlib.pyplot as plt\n",
    "import pandas as pd\n",
    "from dateutil.relativedelta import relativedelta\n",
    "from decimal import Decimal, ROUND_DOWN\n",
    "import numpy as np\n",
    "\n",
    "mc = markov.MarkovChain()"
   ]
  },
  {
   "cell_type": "code",
   "execution_count": null,
   "metadata": {},
   "outputs": [
    {
     "name": "stderr",
     "output_type": "stream",
     "text": [
      "[*********************100%***********************]  1 of 1 completed\n",
      "C:\\Users\\ASUS\\AppData\\Local\\Temp\\ipykernel_15956\\1660888086.py:14: FutureWarning: DataFrame.applymap has been deprecated. Use DataFrame.map instead.\n",
      "  df = df.applymap(round_to_two_non_zero_digits)\n"
     ]
    }
   ],
   "source": [
    "ticker = \"AAPL\"\n",
    "end = datetime.datetime.today().strftime(\"%Y-%m-%d\")\n",
    "start = (datetime.datetime.today() - relativedelta(years=8)).strftime(\"%Y-%m-%d\")\n",
    "\n",
    "df = yf.download(tickers=\"AAPL\", start=start, end=end, interval='1d')\n",
    "df['Change'] = df['Close'].pct_change()\n",
    "df = df.dropna()\n",
    "\n",
    "def round_to_two_non_zero_digits(num):\n",
    "    if num == 0:\n",
    "        return 0\n",
    "    return round(num, 2 - int(np.floor(np.log10(abs(num)))) - 1)\n",
    "\n",
    "df = df.applymap(round_to_two_non_zero_digits)\n",
    "df = df.sort_values(by=\"Date\")\n"
   ]
  },
  {
   "cell_type": "code",
   "execution_count": 44,
   "metadata": {},
   "outputs": [],
   "source": [
    "chainlist = df['Change'].tolist()\n",
    "f, s = 0, 1\n",
    "\n",
    "while s < len(chainlist):\n",
    "    mc.insert(chainlist[f], chainlist[s])\n",
    "    f += 1\n",
    "    s += 1"
   ]
  },
  {
   "cell_type": "code",
   "execution_count": 56,
   "metadata": {},
   "outputs": [
    {
     "name": "stderr",
     "output_type": "stream",
     "text": [
      "C:\\Users\\ASUS\\AppData\\Local\\Temp\\ipykernel_15956\\4259611159.py:1: FutureWarning: Calling float on a single element Series is deprecated and will raise a TypeError in the future. Use float(ser.iloc[0]) instead\n",
      "  val = float(df.tail(1)['Change'])\n"
     ]
    },
    {
     "data": {
      "text/plain": [
       "(0.006175000000000001, 0.006175000000000001)"
      ]
     },
     "execution_count": 56,
     "metadata": {},
     "output_type": "execute_result"
    }
   ],
   "source": [
    "val = float(df.tail(1)['Change'])\n",
    "mc.probableNextAggressive(val), mc.probableNextSafe(val)"
   ]
  }
 ],
 "metadata": {
  "kernelspec": {
   "display_name": "Python 3",
   "language": "python",
   "name": "python3"
  },
  "language_info": {
   "codemirror_mode": {
    "name": "ipython",
    "version": 3
   },
   "file_extension": ".py",
   "mimetype": "text/x-python",
   "name": "python",
   "nbconvert_exporter": "python",
   "pygments_lexer": "ipython3",
   "version": "3.12.3"
  }
 },
 "nbformat": 4,
 "nbformat_minor": 2
}
